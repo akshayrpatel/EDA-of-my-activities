{
 "cells": [
  {
   "cell_type": "code",
   "execution_count": 1,
   "metadata": {
    "collapsed": true
   },
   "outputs": [],
   "source": [
    "import sqlite3\n",
    "import sys\n",
    "import csv\n",
    "import pandas as pd\n",
    "import numpy as np"
   ]
  },
  {
   "cell_type": "code",
   "execution_count": 2,
   "metadata": {},
   "outputs": [
    {
     "name": "stdout",
     "output_type": "stream",
     "text": [
      "Database Created\n",
      "Check Your Directory for the CSV\n"
     ]
    }
   ],
   "source": [
    "def stats():\n",
    " \n",
    "    try:\n",
    "        result = theCursor.execute(\"SELECT notification_app_count,notification_call_count,notification_sms_count, notification_alarm_count FROM stats\")\n",
    "        with open(\"stats.csv\",\"w\") as f:\n",
    "            wr = csv.writer(f,delimiter='\\n')\n",
    "            wr.writerow(result)\n",
    "            print(\"Check Your Directory for the CSV\")  \n",
    "            f.close()\n",
    "            \n",
    "    except sqlite3.OperationalError:\n",
    "        print(\"The Table Doesn't Exist\")\n",
    " \n",
    "    except:\n",
    "        print(\"Couldn't Retrieve Data From Database\")\n",
    " \n",
    "db_conn = sqlite3.connect('db.sqlite')\n",
    "print(\"Database Created\")\n",
    "theCursor = db_conn.cursor()\n",
    "stats()"
   ]
  },
  {
   "cell_type": "code",
   "execution_count": 3,
   "metadata": {
    "collapsed": true
   },
   "outputs": [],
   "source": [
    "stats=pd.read_csv('stats.csv')\n",
    "stats.columns=[\"app_notifs\",\"call_notifs\",\"sms_notifs\",\"alarm_notifs\"]"
   ]
  },
  {
   "cell_type": "code",
   "execution_count": 11,
   "metadata": {},
   "outputs": [
    {
     "data": {
      "text/html": [
       "<div>\n",
       "<table border=\"1\" class=\"dataframe\">\n",
       "  <thead>\n",
       "    <tr style=\"text-align: right;\">\n",
       "      <th></th>\n",
       "      <th>app_notifs</th>\n",
       "      <th>call_notifs</th>\n",
       "      <th>sms_notifs</th>\n",
       "      <th>alarm_notifs</th>\n",
       "    </tr>\n",
       "  </thead>\n",
       "  <tbody>\n",
       "  </tbody>\n",
       "</table>\n",
       "</div>"
      ],
      "text/plain": [
       "Empty DataFrame\n",
       "Columns: [app_notifs, call_notifs, sms_notifs, alarm_notifs]\n",
       "Index: []"
      ]
     },
     "execution_count": 11,
     "metadata": {},
     "output_type": "execute_result"
    }
   ],
   "source": [
    "stats.head(2)"
   ]
  },
  {
   "cell_type": "code",
   "execution_count": null,
   "metadata": {
    "collapsed": true
   },
   "outputs": [],
   "source": []
  }
 ],
 "metadata": {
  "kernelspec": {
   "display_name": "Python 3",
   "language": "python",
   "name": "python3"
  },
  "language_info": {
   "codemirror_mode": {
    "name": "ipython",
    "version": 3
   },
   "file_extension": ".py",
   "mimetype": "text/x-python",
   "name": "python",
   "nbconvert_exporter": "python",
   "pygments_lexer": "ipython3",
   "version": "3.5.0"
  }
 },
 "nbformat": 4,
 "nbformat_minor": 2
}
