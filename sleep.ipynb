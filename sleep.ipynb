{
 "cells": [
  {
   "cell_type": "code",
   "execution_count": 1,
   "metadata": {
    "collapsed": true
   },
   "outputs": [],
   "source": [
    "import sqlite3\n",
    "import sys\n",
    "import csv\n",
    "import pandas as pd\n",
    "import numpy as np"
   ]
  },
  {
   "cell_type": "code",
   "execution_count": 2,
   "metadata": {},
   "outputs": [
    {
     "name": "stdout",
     "output_type": "stream",
     "text": [
      "Database Created\n",
      "Check Your Directory for the CSV\n"
     ]
    }
   ],
   "source": [
    "def printhr():\n",
    " \n",
    "    try:\n",
    "        result = theCursor.execute(\"SELECT start_time,end_time,awake,deep,light FROM sleep\")\n",
    "        with open(\"sleep.csv\",\"w\") as f:\n",
    "            wr = csv.writer(f,delimiter='\\n')\n",
    "            wr.writerow(result)\n",
    "            print(\"Check Your Directory for the CSV\")  \n",
    "            f.close()\n",
    "            \n",
    "    except sqlite3.OperationalError:\n",
    "        print(\"The Table Doesn't Exist\")\n",
    " \n",
    "    except:\n",
    "        print(\"Couldn't Retrieve Data From Database\")\n",
    " \n",
    "db_conn = sqlite3.connect('db.sqlite')\n",
    "print(\"Database Created\")\n",
    "theCursor = db_conn.cursor()\n",
    "printhr()"
   ]
  },
  {
   "cell_type": "code",
   "execution_count": 4,
   "metadata": {
    "collapsed": true
   },
   "outputs": [],
   "source": [
    "s=pd.read_csv('sleep.csv')\n",
    "s.columns=[\"sleep start\",\"sleep end\",\"awake\",\"deep sleep\",\"light sleep\"]\n"
   ]
  },
  {
   "cell_type": "code",
   "execution_count": 6,
   "metadata": {},
   "outputs": [
    {
     "data": {
      "text/html": [
       "<div>\n",
       "<table border=\"1\" class=\"dataframe\">\n",
       "  <thead>\n",
       "    <tr style=\"text-align: right;\">\n",
       "      <th></th>\n",
       "      <th>sleep start</th>\n",
       "      <th>sleep end</th>\n",
       "      <th>awake</th>\n",
       "      <th>deep sleep</th>\n",
       "      <th>light sleep</th>\n",
       "    </tr>\n",
       "  </thead>\n",
       "  <tbody>\n",
       "    <tr>\n",
       "      <th>0</th>\n",
       "      <td>(1500080220</td>\n",
       "      <td>1500093000</td>\n",
       "      <td>0</td>\n",
       "      <td>104</td>\n",
       "      <td>109)</td>\n",
       "    </tr>\n",
       "    <tr>\n",
       "      <th>1</th>\n",
       "      <td>(1500195600</td>\n",
       "      <td>1500214920</td>\n",
       "      <td>0</td>\n",
       "      <td>116</td>\n",
       "      <td>206)</td>\n",
       "    </tr>\n",
       "    <tr>\n",
       "      <th>2</th>\n",
       "      <td>(1500280740</td>\n",
       "      <td>1500303000</td>\n",
       "      <td>2</td>\n",
       "      <td>200</td>\n",
       "      <td>169)</td>\n",
       "    </tr>\n",
       "    <tr>\n",
       "      <th>3</th>\n",
       "      <td>(1500367020</td>\n",
       "      <td>1500387180</td>\n",
       "      <td>0</td>\n",
       "      <td>152</td>\n",
       "      <td>184)</td>\n",
       "    </tr>\n",
       "    <tr>\n",
       "      <th>4</th>\n",
       "      <td>(1500632160</td>\n",
       "      <td>1500652200</td>\n",
       "      <td>0</td>\n",
       "      <td>192</td>\n",
       "      <td>142)</td>\n",
       "    </tr>\n",
       "  </tbody>\n",
       "</table>\n",
       "</div>"
      ],
      "text/plain": [
       "   sleep start   sleep end  awake  deep sleep light sleep\n",
       "0  (1500080220  1500093000      0         104        109)\n",
       "1  (1500195600  1500214920      0         116        206)\n",
       "2  (1500280740  1500303000      2         200        169)\n",
       "3  (1500367020  1500387180      0         152        184)\n",
       "4  (1500632160  1500652200      0         192        142)"
      ]
     },
     "execution_count": 6,
     "metadata": {},
     "output_type": "execute_result"
    }
   ],
   "source": [
    "s.head(5)"
   ]
  },
  {
   "cell_type": "code",
   "execution_count": 8,
   "metadata": {
    "collapsed": true
   },
   "outputs": [],
   "source": [
    "s['sleep start'] = s['sleep start'].apply(lambda x: np.int(x.replace(\"(\",\"\")))\n",
    "s['light sleep'] = s['light sleep'].apply(lambda x: np.int(x.replace(\")\",\"\")))"
   ]
  },
  {
   "cell_type": "code",
   "execution_count": 9,
   "metadata": {},
   "outputs": [
    {
     "data": {
      "text/html": [
       "<div>\n",
       "<table border=\"1\" class=\"dataframe\">\n",
       "  <thead>\n",
       "    <tr style=\"text-align: right;\">\n",
       "      <th></th>\n",
       "      <th>sleep start</th>\n",
       "      <th>sleep end</th>\n",
       "      <th>awake</th>\n",
       "      <th>deep sleep</th>\n",
       "      <th>light sleep</th>\n",
       "    </tr>\n",
       "  </thead>\n",
       "  <tbody>\n",
       "    <tr>\n",
       "      <th>0</th>\n",
       "      <td>1500080220</td>\n",
       "      <td>1500093000</td>\n",
       "      <td>0</td>\n",
       "      <td>104</td>\n",
       "      <td>109</td>\n",
       "    </tr>\n",
       "    <tr>\n",
       "      <th>1</th>\n",
       "      <td>1500195600</td>\n",
       "      <td>1500214920</td>\n",
       "      <td>0</td>\n",
       "      <td>116</td>\n",
       "      <td>206</td>\n",
       "    </tr>\n",
       "    <tr>\n",
       "      <th>2</th>\n",
       "      <td>1500280740</td>\n",
       "      <td>1500303000</td>\n",
       "      <td>2</td>\n",
       "      <td>200</td>\n",
       "      <td>169</td>\n",
       "    </tr>\n",
       "    <tr>\n",
       "      <th>3</th>\n",
       "      <td>1500367020</td>\n",
       "      <td>1500387180</td>\n",
       "      <td>0</td>\n",
       "      <td>152</td>\n",
       "      <td>184</td>\n",
       "    </tr>\n",
       "    <tr>\n",
       "      <th>4</th>\n",
       "      <td>1500632160</td>\n",
       "      <td>1500652200</td>\n",
       "      <td>0</td>\n",
       "      <td>192</td>\n",
       "      <td>142</td>\n",
       "    </tr>\n",
       "  </tbody>\n",
       "</table>\n",
       "</div>"
      ],
      "text/plain": [
       "   sleep start   sleep end  awake  deep sleep  light sleep\n",
       "0   1500080220  1500093000      0         104          109\n",
       "1   1500195600  1500214920      0         116          206\n",
       "2   1500280740  1500303000      2         200          169\n",
       "3   1500367020  1500387180      0         152          184\n",
       "4   1500632160  1500652200      0         192          142"
      ]
     },
     "execution_count": 9,
     "metadata": {},
     "output_type": "execute_result"
    }
   ],
   "source": [
    "s.head(5)"
   ]
  },
  {
   "cell_type": "code",
   "execution_count": 10,
   "metadata": {
    "collapsed": true
   },
   "outputs": [],
   "source": [
    "s['sleep start'] = pd.to_datetime(s['sleep start'],unit='s')\n",
    "s['sleep end'] = pd.to_datetime(s['sleep end'],unit='s')"
   ]
  },
  {
   "cell_type": "code",
   "execution_count": 11,
   "metadata": {},
   "outputs": [
    {
     "data": {
      "text/html": [
       "<div>\n",
       "<table border=\"1\" class=\"dataframe\">\n",
       "  <thead>\n",
       "    <tr style=\"text-align: right;\">\n",
       "      <th></th>\n",
       "      <th>sleep start</th>\n",
       "      <th>sleep end</th>\n",
       "      <th>awake</th>\n",
       "      <th>deep sleep</th>\n",
       "      <th>light sleep</th>\n",
       "    </tr>\n",
       "  </thead>\n",
       "  <tbody>\n",
       "    <tr>\n",
       "      <th>0</th>\n",
       "      <td>2017-07-15 00:57:00</td>\n",
       "      <td>2017-07-15 04:30:00</td>\n",
       "      <td>0</td>\n",
       "      <td>104</td>\n",
       "      <td>109</td>\n",
       "    </tr>\n",
       "    <tr>\n",
       "      <th>1</th>\n",
       "      <td>2017-07-16 09:00:00</td>\n",
       "      <td>2017-07-16 14:22:00</td>\n",
       "      <td>0</td>\n",
       "      <td>116</td>\n",
       "      <td>206</td>\n",
       "    </tr>\n",
       "    <tr>\n",
       "      <th>2</th>\n",
       "      <td>2017-07-17 08:39:00</td>\n",
       "      <td>2017-07-17 14:50:00</td>\n",
       "      <td>2</td>\n",
       "      <td>200</td>\n",
       "      <td>169</td>\n",
       "    </tr>\n",
       "    <tr>\n",
       "      <th>3</th>\n",
       "      <td>2017-07-18 08:37:00</td>\n",
       "      <td>2017-07-18 14:13:00</td>\n",
       "      <td>0</td>\n",
       "      <td>152</td>\n",
       "      <td>184</td>\n",
       "    </tr>\n",
       "    <tr>\n",
       "      <th>4</th>\n",
       "      <td>2017-07-21 10:16:00</td>\n",
       "      <td>2017-07-21 15:50:00</td>\n",
       "      <td>0</td>\n",
       "      <td>192</td>\n",
       "      <td>142</td>\n",
       "    </tr>\n",
       "  </tbody>\n",
       "</table>\n",
       "</div>"
      ],
      "text/plain": [
       "          sleep start           sleep end  awake  deep sleep  light sleep\n",
       "0 2017-07-15 00:57:00 2017-07-15 04:30:00      0         104          109\n",
       "1 2017-07-16 09:00:00 2017-07-16 14:22:00      0         116          206\n",
       "2 2017-07-17 08:39:00 2017-07-17 14:50:00      2         200          169\n",
       "3 2017-07-18 08:37:00 2017-07-18 14:13:00      0         152          184\n",
       "4 2017-07-21 10:16:00 2017-07-21 15:50:00      0         192          142"
      ]
     },
     "execution_count": 11,
     "metadata": {},
     "output_type": "execute_result"
    }
   ],
   "source": [
    "s.head(5)"
   ]
  },
  {
   "cell_type": "code",
   "execution_count": 13,
   "metadata": {
    "collapsed": true
   },
   "outputs": [],
   "source": [
    "s['totalsleep']=(s['awake']+s['deep sleep']+s['light sleep'])"
   ]
  },
  {
   "cell_type": "code",
   "execution_count": 17,
   "metadata": {},
   "outputs": [],
   "source": [
    "s.to_csv('pro\\sleep1.csv',index=False)"
   ]
  },
  {
   "cell_type": "code",
   "execution_count": null,
   "metadata": {
    "collapsed": true
   },
   "outputs": [],
   "source": [
    "()"
   ]
  }
 ],
 "metadata": {
  "kernelspec": {
   "display_name": "Python 3",
   "language": "python",
   "name": "python3"
  },
  "language_info": {
   "codemirror_mode": {
    "name": "ipython",
    "version": 3
   },
   "file_extension": ".py",
   "mimetype": "text/x-python",
   "name": "python",
   "nbconvert_exporter": "python",
   "pygments_lexer": "ipython3",
   "version": "3.5.0"
  }
 },
 "nbformat": 4,
 "nbformat_minor": 2
}
